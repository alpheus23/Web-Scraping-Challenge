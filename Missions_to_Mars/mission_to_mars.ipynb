{
 "metadata": {
  "language_info": {
   "codemirror_mode": {
    "name": "ipython",
    "version": 3
   },
   "file_extension": ".py",
   "mimetype": "text/x-python",
   "name": "python",
   "nbconvert_exporter": "python",
   "pygments_lexer": "ipython3",
   "version": "3.8.3-final"
  },
  "orig_nbformat": 2,
  "kernelspec": {
   "name": "python3",
   "display_name": "Python 3"
  }
 },
 "nbformat": 4,
 "nbformat_minor": 2,
 "cells": [
  {
   "cell_type": "code",
   "execution_count": 19,
   "metadata": {},
   "outputs": [],
   "source": [
    "#Dependencies \n",
    "from splinter import Browser\n",
    "from bs4 import BeautifulSoup as bs\n",
    "from webdriver_manager.chrome import ChromeDriverManager"
   ]
  },
  {
   "cell_type": "code",
   "execution_count": 20,
   "metadata": {},
   "outputs": [
    {
     "output_type": "stream",
     "name": "stderr",
     "text": [
      "[WDM] - Current google-chrome version is 87.0.4280\n",
      "[WDM] - Get LATEST driver version for 87.0.4280\n",
      "[WDM] - Driver [C:\\Users\\Administrator\\.wdm\\drivers\\chromedriver\\win32\\87.0.4280.88\\chromedriver.exe] found in cache\n",
      " \n"
     ]
    }
   ],
   "source": [
    "executable_path = {'executable_path': ChromeDriverManager().install()}\n",
    "browser = Browser('chrome', **executable_path, headless=False)"
   ]
  },
  {
   "cell_type": "code",
   "execution_count": 21,
   "metadata": {},
   "outputs": [],
   "source": [
    "#URL of page to be scraped\n",
    "url = 'https://mars.nasa.gov/news/?page=0&per_page=40&order=publish_date+desc%2Ccreated_at+desc&search=&category=19%2C165%2C184%2C204&blank_scope=Latest'\n",
    "browser.visit(url)"
   ]
  },
  {
   "cell_type": "code",
   "execution_count": 22,
   "metadata": {
    "tags": []
   },
   "outputs": [
    {
     "output_type": "stream",
     "name": "stdout",
     "text": [
      "First Article: MOXIE Could Help Future Rockets Launch Off Mars\n\nArticle Paragraph: NASA's Perseverance rover carries a device to convert Martian air into oxygen that, if produced on a larger scale, could be used not just for breathing, but also for fuel.\n\nSearch complete\n"
     ]
    }
   ],
   "source": [
    "#HTML object\n",
    "html = browser.html\n",
    "#Parse HTML with Beautiful Soup\n",
    "soup = bs(html, 'html.parser')\n",
    "\n",
    "#Breakdown search for first article title\n",
    "search_t = soup.find('li', class_='slide')\n",
    "content_t = search_t.find('div', class_='content_title')\n",
    "news_title = content_t.find('a').text\n",
    "\n",
    "#Breakdown search for paragraph under title\n",
    "search_p = soup.find('li', class_='slide')\n",
    "news_p = search_p.find('div', class_='article_teaser_body').text\n",
    "\n",
    "print(f\"First Article: {news_title}\\n\")\n",
    "print(f\"Article Paragraph: {news_p}\\n\")\n",
    "\n",
    "print(\"Search complete\")"
   ]
  },
  {
   "cell_type": "code",
   "execution_count": 23,
   "metadata": {},
   "outputs": [],
   "source": [
    "#Navigate to the next site to scrape\n",
    "url = \"https://www.jpl.nasa.gov/spaceimages/?search=&category=Mars\"\n",
    "browser.visit(url)"
   ]
  },
  {
   "cell_type": "code",
   "execution_count": 24,
   "metadata": {},
   "outputs": [],
   "source": [
    "#Navigate site to reach featured image\n",
    "browser.links.find_by_partial_text('FULL IMAGE').click()\n",
    "\n",
    "#Wait period between next click\n",
    "browser.is_element_present_by_text('more info', wait_time=1)\n",
    "\n",
    "#Next click\n",
    "browser.links.find_by_partial_text('more info').click()"
   ]
  },
  {
   "cell_type": "code",
   "execution_count": 32,
   "metadata": {},
   "outputs": [
    {
     "output_type": "stream",
     "name": "stdout",
     "text": [
      "https://www.jpl.nasa.gov/spaceimages/images/largesize/PIA18433_hires.jpg\n"
     ]
    }
   ],
   "source": [
    "#HTML object\n",
    "html = browser.html\n",
    "#Parse HTML with Beautiful Soup\n",
    "soup = bs(html, 'html.parser')\n",
    "\n",
    "#Breakdown search for image url\n",
    "section_i = soup.find('figure', class_='lede')\n",
    "link = section_i.find('a')\n",
    "href = link['href']\n",
    "image_url = (f'https://www.jpl.nasa.gov{href}')\n",
    "\n",
    "print(image_url)\n"
   ]
  },
  {
   "cell_type": "code",
   "execution_count": null,
   "metadata": {},
   "outputs": [],
   "source": []
  }
 ]
}