{
 "metadata": {
  "language_info": {
   "codemirror_mode": {
    "name": "ipython",
    "version": 3
   },
   "file_extension": ".py",
   "mimetype": "text/x-python",
   "name": "python",
   "nbconvert_exporter": "python",
   "pygments_lexer": "ipython3",
   "version": "3.8.3-final"
  },
  "orig_nbformat": 2,
  "kernelspec": {
   "name": "python3",
   "display_name": "Python 3"
  }
 },
 "nbformat": 4,
 "nbformat_minor": 2,
 "cells": [
  {
   "cell_type": "code",
   "execution_count": 13,
   "metadata": {},
   "outputs": [],
   "source": [
    "#Dependencies \n",
    "from splinter import Browser\n",
    "from bs4 import BeautifulSoup as bs\n",
    "from webdriver_manager.chrome import ChromeDriverManager\n",
    "import pandas as pd"
   ]
  },
  {
   "cell_type": "code",
   "execution_count": 14,
   "metadata": {},
   "outputs": [
    {
     "output_type": "stream",
     "name": "stderr",
     "text": [
      "[WDM] - Current google-chrome version is 87.0.4280\n",
      "[WDM] - Get LATEST driver version for 87.0.4280\n",
      "[WDM] - Driver [C:\\Users\\Administrator\\.wdm\\drivers\\chromedriver\\win32\\87.0.4280.88\\chromedriver.exe] found in cache\n",
      " \n"
     ]
    }
   ],
   "source": [
    "executable_path = {'executable_path': ChromeDriverManager().install()}\n",
    "browser = Browser('chrome', **executable_path, headless=False)"
   ]
  },
  {
   "cell_type": "code",
   "execution_count": 15,
   "metadata": {},
   "outputs": [],
   "source": [
    "#URL of page to be scraped\n",
    "url = 'https://mars.nasa.gov/news/?page=0&per_page=40&order=publish_date+desc%2Ccreated_at+desc&search=&category=19%2C165%2C184%2C204&blank_scope=Latest'\n",
    "browser.visit(url)"
   ]
  },
  {
   "cell_type": "code",
   "execution_count": 16,
   "metadata": {
    "tags": []
   },
   "outputs": [
    {
     "output_type": "stream",
     "name": "stdout",
     "text": [
      "First Article: MOXIE Could Help Future Rockets Launch Off Mars\n\nArticle Paragraph: NASA's Perseverance rover carries a device to convert Martian air into oxygen that, if produced on a larger scale, could be used not just for breathing, but also for fuel.\n\n-------------------\nSearch complete\n-------------------\n"
     ]
    }
   ],
   "source": [
    "#HTML object\n",
    "html = browser.html\n",
    "#Parse HTML with Beautiful Soup\n",
    "soup = bs(html, 'html.parser')\n",
    "\n",
    "#Breakdown search for first article title\n",
    "search_t = soup.find('li', class_='slide')\n",
    "content_t = search_t.find('div', class_='content_title')\n",
    "news_title = content_t.find('a').text\n",
    "\n",
    "#Breakdown search for paragraph under title\n",
    "search_p = soup.find('li', class_='slide')\n",
    "news_p = search_p.find('div', class_='article_teaser_body').text\n",
    "\n",
    "print(f\"First Article: {news_title}\\n\")\n",
    "print(f\"Article Paragraph: {news_p}\\n\")\n",
    "\n",
    "print('-------------------')\n",
    "print(\"Search complete\")\n",
    "print('-------------------')"
   ]
  },
  {
   "cell_type": "code",
   "execution_count": 17,
   "metadata": {},
   "outputs": [],
   "source": [
    "#Navigate to the next site to scrape\n",
    "url = \"https://www.jpl.nasa.gov/spaceimages/?search=&category=Mars\"\n",
    "browser.visit(url)"
   ]
  },
  {
   "cell_type": "code",
   "execution_count": 18,
   "metadata": {},
   "outputs": [],
   "source": [
    "#Navigate site to reach featured image\n",
    "browser.links.find_by_partial_text('FULL IMAGE').click()\n",
    "\n",
    "#Wait period between next click\n",
    "browser.is_element_present_by_text('more info', wait_time=1)\n",
    "\n",
    "#Next click\n",
    "browser.links.find_by_partial_text('more info').click()"
   ]
  },
  {
   "cell_type": "code",
   "execution_count": 19,
   "metadata": {},
   "outputs": [
    {
     "output_type": "stream",
     "name": "stdout",
     "text": [
      "Image URL: https://www.jpl.nasa.gov/spaceimages/images/largesize/PIA22892_hires.jpg\n\n-------------------\nSearch complete\n-------------------\n"
     ]
    }
   ],
   "source": [
    "#HTML object\n",
    "html = browser.html\n",
    "#Parse HTML with Beautiful Soup\n",
    "soup = bs(html, 'html.parser')\n",
    "\n",
    "#Breakdown search for image url\n",
    "section_i = soup.find('figure', class_='lede')\n",
    "link = section_i.find('a')\n",
    "href = link['href']\n",
    "image_url = (f'https://www.jpl.nasa.gov{href}')\n",
    "\n",
    "#Print image url\n",
    "print(f'Image URL: {image_url}\\n')\n",
    "\n",
    "print('-------------------')\n",
    "print(\"Search complete\")\n",
    "print('-------------------')"
   ]
  },
  {
   "cell_type": "code",
   "execution_count": 20,
   "metadata": {},
   "outputs": [],
   "source": [
    "#Navigate to the next site to scrape\n",
    "url = \"https://space-facts.com/mars/\"\n",
    "browser.visit(url)"
   ]
  },
  {
   "cell_type": "code",
   "execution_count": 21,
   "metadata": {},
   "outputs": [
    {
     "output_type": "execute_result",
     "data": {
      "text/plain": [
       "[                      0                              1\n",
       " 0  Equatorial Diameter:                       6,792 km\n",
       " 1       Polar Diameter:                       6,752 km\n",
       " 2                 Mass:  6.39 × 10^23 kg (0.11 Earths)\n",
       " 3                Moons:            2 (Phobos & Deimos)\n",
       " 4       Orbit Distance:       227,943,824 km (1.38 AU)\n",
       " 5         Orbit Period:           687 days (1.9 years)\n",
       " 6  Surface Temperature:                   -87 to -5 °C\n",
       " 7         First Record:              2nd millennium BC\n",
       " 8          Recorded By:           Egyptian astronomers,\n",
       "   Mars - Earth Comparison             Mars            Earth\n",
       " 0               Diameter:         6,779 km        12,742 km\n",
       " 1                   Mass:  6.39 × 10^23 kg  5.97 × 10^24 kg\n",
       " 2                  Moons:                2                1\n",
       " 3      Distance from Sun:   227,943,824 km   149,598,262 km\n",
       " 4         Length of Year:   687 Earth days      365.24 days\n",
       " 5            Temperature:     -87 to -5 °C      -88 to 58°C,\n",
       "                       0                              1\n",
       " 0  Equatorial Diameter:                       6,792 km\n",
       " 1       Polar Diameter:                       6,752 km\n",
       " 2                 Mass:  6.39 × 10^23 kg (0.11 Earths)\n",
       " 3                Moons:            2 (Phobos & Deimos)\n",
       " 4       Orbit Distance:       227,943,824 km (1.38 AU)\n",
       " 5         Orbit Period:           687 days (1.9 years)\n",
       " 6  Surface Temperature:                   -87 to -5 °C\n",
       " 7         First Record:              2nd millennium BC\n",
       " 8          Recorded By:           Egyptian astronomers]"
      ]
     },
     "metadata": {},
     "execution_count": 21
    }
   ],
   "source": [
    "#Scrape and display the tables from the site\n",
    "tables = pd.read_html(url)\n",
    "tables"
   ]
  },
  {
   "cell_type": "code",
   "execution_count": 22,
   "metadata": {},
   "outputs": [
    {
     "output_type": "execute_result",
     "data": {
      "text/plain": [
       "                                              Units\n",
       "What's Measured                                    \n",
       "Equatorial Diameter:                       6,792 km\n",
       "Polar Diameter:                            6,752 km\n",
       "Mass:                 6.39 × 10^23 kg (0.11 Earths)\n",
       "Moons:                          2 (Phobos & Deimos)\n",
       "Orbit Distance:            227,943,824 km (1.38 AU)\n",
       "Orbit Period:                  687 days (1.9 years)\n",
       "Surface Temperature:                   -87 to -5 °C\n",
       "First Record:                     2nd millennium BC\n",
       "Recorded By:                   Egyptian astronomers"
      ],
      "text/html": "<div>\n<style scoped>\n    .dataframe tbody tr th:only-of-type {\n        vertical-align: middle;\n    }\n\n    .dataframe tbody tr th {\n        vertical-align: top;\n    }\n\n    .dataframe thead th {\n        text-align: right;\n    }\n</style>\n<table border=\"1\" class=\"dataframe\">\n  <thead>\n    <tr style=\"text-align: right;\">\n      <th></th>\n      <th>Units</th>\n    </tr>\n    <tr>\n      <th>What's Measured</th>\n      <th></th>\n    </tr>\n  </thead>\n  <tbody>\n    <tr>\n      <th>Equatorial Diameter:</th>\n      <td>6,792 km</td>\n    </tr>\n    <tr>\n      <th>Polar Diameter:</th>\n      <td>6,752 km</td>\n    </tr>\n    <tr>\n      <th>Mass:</th>\n      <td>6.39 × 10^23 kg (0.11 Earths)</td>\n    </tr>\n    <tr>\n      <th>Moons:</th>\n      <td>2 (Phobos &amp; Deimos)</td>\n    </tr>\n    <tr>\n      <th>Orbit Distance:</th>\n      <td>227,943,824 km (1.38 AU)</td>\n    </tr>\n    <tr>\n      <th>Orbit Period:</th>\n      <td>687 days (1.9 years)</td>\n    </tr>\n    <tr>\n      <th>Surface Temperature:</th>\n      <td>-87 to -5 °C</td>\n    </tr>\n    <tr>\n      <th>First Record:</th>\n      <td>2nd millennium BC</td>\n    </tr>\n    <tr>\n      <th>Recorded By:</th>\n      <td>Egyptian astronomers</td>\n    </tr>\n  </tbody>\n</table>\n</div>"
     },
     "metadata": {},
     "execution_count": 22
    }
   ],
   "source": [
    "#Print the first table with the relevant Mars information\n",
    "mars_table = tables[0]\n",
    "\n",
    "#Display table\n",
    "mars_table\n",
    "\n",
    "#Rename columns\n",
    "mars_table = mars_table.rename({0:\"What's Measured\", 1:\"Units\"}, axis='columns')\n",
    "\n",
    "#Change index\n",
    "mars_table = mars_table.set_index(\"What's Measured\")\n",
    "\n",
    "#Display table\n",
    "mars_table"
   ]
  },
  {
   "cell_type": "code",
   "execution_count": 23,
   "metadata": {},
   "outputs": [],
   "source": [
    "#Navigate to the next site to scrape\n",
    "url = \"https://astrogeology.usgs.gov/search/results?q=hemisphere+enhanced&k1=target&v1=Mars\"\n",
    "browser.visit(url)"
   ]
  },
  {
   "cell_type": "code",
   "execution_count": 24,
   "metadata": {},
   "outputs": [],
   "source": [
    "#Click header to navigate to image location\n",
    "browser.links.find_by_partial_text('Cerberus Hemisphere Enhanced').click()"
   ]
  },
  {
   "cell_type": "code",
   "execution_count": 25,
   "metadata": {},
   "outputs": [
    {
     "output_type": "stream",
     "name": "stdout",
     "text": [
      "Hemisphere Title: Cerberus Hemisphere Enhanced\n\nHemisphere Image: https://astrogeology.usgs.gov//cache/images/f5e372a36edfa389625da6d0cc25d905_cerberus_enhanced.tif_full.jpg\n\n-------------------\nSearch complete\n-------------------\n"
     ]
    }
   ],
   "source": [
    "#HTML object\n",
    "html = browser.html\n",
    "#Parse HTML with Beautiful Soup\n",
    "soup = bs(html, 'html.parser')\n",
    "\n",
    "#Obtain Hemisphere Title\n",
    "div_t = soup.find('div', class_='content')\n",
    "cerb_title = div_t.find('h2', class_='title').text\n",
    "\n",
    "print(f'Hemisphere Title: {cerb_title}\\n')\n",
    "\n",
    "#Obtain resolution for Cerberus Hemisphere\n",
    "div_i = soup.find('img', class_='wide-image')\n",
    "img_src = div_i['src']\n",
    "cerb_image_url = (f'https://astrogeology.usgs.gov/{img_src}')\n",
    "\n",
    "print(f'Hemisphere Image: {cerb_image_url}\\n')\n",
    "\n",
    "print('-------------------')\n",
    "print(\"Search complete\")\n",
    "print('-------------------')"
   ]
  },
  {
   "cell_type": "code",
   "execution_count": 26,
   "metadata": {},
   "outputs": [],
   "source": [
    "#Reload the previous page\n",
    "url = \"https://astrogeology.usgs.gov/search/results?q=hemisphere+enhanced&k1=target&v1=Mars\"\n",
    "browser.visit(url)"
   ]
  },
  {
   "cell_type": "code",
   "execution_count": 27,
   "metadata": {},
   "outputs": [],
   "source": [
    "#Click header to navigate to image location\n",
    "browser.links.find_by_partial_text('Schiaparelli Hemisphere Enhanced').click()"
   ]
  },
  {
   "cell_type": "code",
   "execution_count": 28,
   "metadata": {},
   "outputs": [
    {
     "output_type": "stream",
     "name": "stdout",
     "text": [
      "Hemisphere Title: Schiaparelli Hemisphere Enhanced\n\nHemisphere Image: https://astrogeology.usgs.gov//cache/images/3778f7b43bbbc89d6e3cfabb3613ba93_schiaparelli_enhanced.tif_full.jpg\n\n-------------------\nSearch complete\n-------------------\n"
     ]
    }
   ],
   "source": [
    "#HTML object\n",
    "html = browser.html\n",
    "#Parse HTML with Beautiful Soup\n",
    "soup = bs(html, 'html.parser')\n",
    "\n",
    "#Obtain Hemisphere Title\n",
    "div_t = soup.find('div', class_='content')\n",
    "schi_title = div_t.find('h2', class_='title').text\n",
    "\n",
    "print(f'Hemisphere Title: {schi_title}\\n')\n",
    "\n",
    "#Obtain resolution for Cerberus Hemisphere\n",
    "div_i = soup.find('img', class_='wide-image')\n",
    "img_src = div_i['src']\n",
    "schi_image_url = (f'https://astrogeology.usgs.gov/{img_src}')\n",
    "\n",
    "print(f'Hemisphere Image: {schi_image_url}\\n')\n",
    "\n",
    "print('-------------------')\n",
    "print(\"Search complete\")\n",
    "print('-------------------')"
   ]
  },
  {
   "cell_type": "code",
   "execution_count": 29,
   "metadata": {},
   "outputs": [],
   "source": [
    "#Reload the previous page\n",
    "url = \"https://astrogeology.usgs.gov/search/results?q=hemisphere+enhanced&k1=target&v1=Mars\"\n",
    "browser.visit(url)"
   ]
  },
  {
   "cell_type": "code",
   "execution_count": 30,
   "metadata": {},
   "outputs": [],
   "source": [
    "#Click header to navigate to image location\n",
    "browser.links.find_by_partial_text('Syrtis Major Hemisphere Enhanced').click()"
   ]
  },
  {
   "cell_type": "code",
   "execution_count": 31,
   "metadata": {},
   "outputs": [
    {
     "output_type": "stream",
     "name": "stdout",
     "text": [
      "Hemisphere Title: Syrtis Major Hemisphere Enhanced\n\nHemisphere Image: https://astrogeology.usgs.gov//cache/images/555e6403a6ddd7ba16ddb0e471cadcf7_syrtis_major_enhanced.tif_full.jpg\n\n-------------------\nSearch complete\n-------------------\n"
     ]
    }
   ],
   "source": [
    "#HTML object\n",
    "html = browser.html\n",
    "#Parse HTML with Beautiful Soup\n",
    "soup = bs(html, 'html.parser')\n",
    "\n",
    "#Obtain Hemisphere Title\n",
    "div_t = soup.find('div', class_='content')\n",
    "syr_title = div_t.find('h2', class_='title').text\n",
    "\n",
    "print(f'Hemisphere Title: {syr_title}\\n')\n",
    "\n",
    "#Obtain resolution for Cerberus Hemisphere\n",
    "div_i = soup.find('img', class_='wide-image')\n",
    "img_src = div_i['src']\n",
    "syr_image_url = (f'https://astrogeology.usgs.gov/{img_src}')\n",
    "\n",
    "print(f'Hemisphere Image: {syr_image_url}\\n')\n",
    "\n",
    "print('-------------------')\n",
    "print(\"Search complete\")\n",
    "print('-------------------')"
   ]
  },
  {
   "cell_type": "code",
   "execution_count": 32,
   "metadata": {},
   "outputs": [],
   "source": [
    "#Reload the previous page\n",
    "url = \"https://astrogeology.usgs.gov/search/results?q=hemisphere+enhanced&k1=target&v1=Mars\"\n",
    "browser.visit(url)"
   ]
  },
  {
   "cell_type": "code",
   "execution_count": 33,
   "metadata": {},
   "outputs": [],
   "source": [
    "#Click header to navigate to image location\n",
    "browser.links.find_by_partial_text('Valles Marineris Hemisphere Enhanced').click()"
   ]
  },
  {
   "cell_type": "code",
   "execution_count": 34,
   "metadata": {},
   "outputs": [
    {
     "output_type": "stream",
     "name": "stdout",
     "text": [
      "Hemisphere Title: Valles Marineris Hemisphere Enhanced\n\nHemisphere Image: https://astrogeology.usgs.gov//cache/images/b3c7c6c9138f57b4756be9b9c43e3a48_valles_marineris_enhanced.tif_full.jpg\n\n-------------------\nSearch complete\n-------------------\n"
     ]
    }
   ],
   "source": [
    "#HTML object\n",
    "html = browser.html\n",
    "#Parse HTML with Beautiful Soup\n",
    "soup = bs(html, 'html.parser')\n",
    "\n",
    "#Obtain Hemisphere Title\n",
    "div_t = soup.find('div', class_='content')\n",
    "val_title = div_t.find('h2', class_='title').text\n",
    "\n",
    "print(f'Hemisphere Title: {val_title}\\n')\n",
    "\n",
    "#Obtain resolution for Cerberus Hemisphere\n",
    "div_i = soup.find('img', class_='wide-image')\n",
    "img_src = div_i['src']\n",
    "val_image_url = (f'https://astrogeology.usgs.gov/{img_src}')\n",
    "\n",
    "print(f'Hemisphere Image: {val_image_url}\\n')\n",
    "\n",
    "print('-------------------')\n",
    "print(\"Search complete\")\n",
    "print('-------------------')"
   ]
  },
  {
   "cell_type": "code",
   "execution_count": 35,
   "metadata": {},
   "outputs": [
    {
     "output_type": "stream",
     "name": "stdout",
     "text": [
      "Cerberus Hemisphere Enhanced\n"
     ]
    }
   ],
   "source": [
    "#Store values obtained into dictionary\n",
    "hemisphere_image_urls = [\n",
    "    {\"Title\": cerb_title, \"Image URL\": cerb_image_url},\n",
    "    {\"Title\": schi_title, \"Image URL\": schi_image_url},\n",
    "    {\"Title\": syr_title, \"Image URL\": syr_image_url},\n",
    "    {\"Title\": val_title, \"Image URL\": val_image_url}\n",
    "]\n",
    "\n",
    "print(hemisphere_image_urls[0][\"Title\"])"
   ]
  },
  {
   "cell_type": "code",
   "execution_count": null,
   "metadata": {},
   "outputs": [],
   "source": []
  }
 ]
}