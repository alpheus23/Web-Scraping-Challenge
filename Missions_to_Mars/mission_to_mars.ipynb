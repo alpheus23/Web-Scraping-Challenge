{
 "metadata": {
  "language_info": {
   "codemirror_mode": {
    "name": "ipython",
    "version": 3
   },
   "file_extension": ".py",
   "mimetype": "text/x-python",
   "name": "python",
   "nbconvert_exporter": "python",
   "pygments_lexer": "ipython3",
   "version": "3.8.3-final"
  },
  "orig_nbformat": 2,
  "kernelspec": {
   "name": "python3",
   "display_name": "Python 3"
  }
 },
 "nbformat": 4,
 "nbformat_minor": 2,
 "cells": [
  {
   "cell_type": "code",
   "execution_count": 116,
   "metadata": {},
   "outputs": [],
   "source": [
    "#Dependencies \n",
    "from bs4 import BeautifulSoup as bs\n",
    "import requests"
   ]
  },
  {
   "cell_type": "code",
   "execution_count": 117,
   "metadata": {},
   "outputs": [],
   "source": [
    "#URL of page to be scraped\n",
    "url = 'https://mars.nasa.gov/news/?page=0&per_page=40&order=publish_date+desc%2Ccreated_at+desc&search=&category=19%2C165%2C184%2C204&blank_scope=Latest'"
   ]
  },
  {
   "cell_type": "code",
   "execution_count": 118,
   "metadata": {},
   "outputs": [],
   "source": [
    "#Retrieve page with the request module\n",
    "response = requests.get(url)"
   ]
  },
  {
   "cell_type": "code",
   "execution_count": 119,
   "metadata": {},
   "outputs": [],
   "source": [
    "#Create BeautifulSoup object; parse with 'html.parser'\n",
    "soup = bs(response.text, 'html.parser')"
   ]
  },
  {
   "cell_type": "code",
   "execution_count": 120,
   "metadata": {},
   "outputs": [],
   "source": [
    "results = soup.find_all('li', class_=\"slide\")"
   ]
  },
  {
   "cell_type": "code",
   "execution_count": 125,
   "metadata": {},
   "outputs": [
    {
     "output_type": "stream",
     "name": "stdout",
     "text": [
      "Search complete\n"
     ]
    }
   ],
   "source": [
    "#Loop through returned results\n",
    "for result in results:\n",
    "    #Error handling\n",
    "    try:\n",
    "        #Identify and return title of article\n",
    "        news_title = result.find('a', target=\"_self\").text\n",
    "        #Identify and return body text of title\n",
    "        news_p = result.find('div', class_=\"article_teaser_body\").text\n",
    "\n",
    "        #Print results\n",
    "        if (news_title and news_p):\n",
    "            print('--------------')\n",
    "            print(news_title)\n",
    "            print(news_p)\n",
    "\n",
    "    except AttributeError as e:\n",
    "        print(e)\n",
    "\n",
    "print(\"Search complete\")\n",
    "\n",
    "# news_title = soup.find('a', target=\"_self\")\n",
    "# news_p = soup.find_all('div', class_=\"article_teaser_body\")\n",
    "\n",
    "# print(news_title)\n",
    "# print(news_p)"
   ]
  },
  {
   "cell_type": "code",
   "execution_count": null,
   "metadata": {},
   "outputs": [],
   "source": []
  }
 ]
}